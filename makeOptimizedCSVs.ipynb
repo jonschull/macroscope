{
 "cells": [
  {
   "cell_type": "markdown",
   "metadata": {},
   "source": [
    "# Take data from normPosts.csv and create dataForGraph.json"
   ]
  },
  {
   "cell_type": "code",
   "execution_count": 1,
   "metadata": {},
   "outputs": [
    {
     "name": "stdout",
     "output_type": "stream",
     "text": [
      "read 76238 posts\n"
     ]
    },
    {
     "data": {
      "text/html": [
       "<div>\n",
       "<style scoped>\n",
       "    .dataframe tbody tr th:only-of-type {\n",
       "        vertical-align: middle;\n",
       "    }\n",
       "\n",
       "    .dataframe tbody tr th {\n",
       "        vertical-align: top;\n",
       "    }\n",
       "\n",
       "    .dataframe thead th {\n",
       "        text-align: right;\n",
       "    }\n",
       "</style>\n",
       "<table border=\"1\" class=\"dataframe\">\n",
       "  <thead>\n",
       "    <tr style=\"text-align: right;\">\n",
       "      <th></th>\n",
       "      <th>ID</th>\n",
       "      <th>author</th>\n",
       "      <th>body</th>\n",
       "      <th>body_html</th>\n",
       "      <th>category</th>\n",
       "      <th>comments</th>\n",
       "      <th>date_created</th>\n",
       "      <th>isoformat</th>\n",
       "      <th>members_only</th>\n",
       "      <th>timeInt</th>\n",
       "      <th>title</th>\n",
       "    </tr>\n",
       "  </thead>\n",
       "  <tbody>\n",
       "    <tr>\n",
       "      <th>0</th>\n",
       "      <td>0.000</td>\n",
       "      <td>{'username': 'jonschull', 'avatar': 'https://w...</td>\n",
       "      <td>Welcome to the companion site to this map[http...</td>\n",
       "      <td>&lt;p&gt;Welcome to the companion site to this map&lt;a...</td>\n",
       "      <td>Legal, Documents, $$</td>\n",
       "      <td>[{'date_created': '2013-07-10T20:36:01+00:00',...</td>\n",
       "      <td>2013-07-10T20:01:06+00:00</td>\n",
       "      <td>2013-07-10T14:01:06-06:00</td>\n",
       "      <td>1.0</td>\n",
       "      <td>1373486466</td>\n",
       "      <td>Welcome to the companion site to this map...</td>\n",
       "    </tr>\n",
       "    <tr>\n",
       "      <th>1</th>\n",
       "      <td>0.001</td>\n",
       "      <td>{'username': 'jonschull', 'avatar': 'https://w...</td>\n",
       "      <td>short link:  http://goo.gl/1a4pb</td>\n",
       "      <td>&lt;p&gt;short link:  &lt;a href=\"http://goo.gl/1a4pb\"&gt;...</td>\n",
       "      <td>None</td>\n",
       "      <td>None</td>\n",
       "      <td>2013-07-10T20:36:01+00:00</td>\n",
       "      <td>2013-07-10T14:36:01-06:00</td>\n",
       "      <td>NaN</td>\n",
       "      <td>1373488561</td>\n",
       "      <td>None</td>\n",
       "    </tr>\n",
       "  </tbody>\n",
       "</table>\n",
       "</div>"
      ],
      "text/plain": [
       "      ID                                             author  \\\n",
       "0  0.000  {'username': 'jonschull', 'avatar': 'https://w...   \n",
       "1  0.001  {'username': 'jonschull', 'avatar': 'https://w...   \n",
       "\n",
       "                                                body  \\\n",
       "0  Welcome to the companion site to this map[http...   \n",
       "1                   short link:  http://goo.gl/1a4pb   \n",
       "\n",
       "                                           body_html              category  \\\n",
       "0  <p>Welcome to the companion site to this map<a...  Legal, Documents, $$   \n",
       "1  <p>short link:  <a href=\"http://goo.gl/1a4pb\">...                  None   \n",
       "\n",
       "                                            comments  \\\n",
       "0  [{'date_created': '2013-07-10T20:36:01+00:00',...   \n",
       "1                                               None   \n",
       "\n",
       "                date_created                  isoformat  members_only  \\\n",
       "0  2013-07-10T20:01:06+00:00  2013-07-10T14:01:06-06:00           1.0   \n",
       "1  2013-07-10T20:36:01+00:00  2013-07-10T14:36:01-06:00           NaN   \n",
       "\n",
       "      timeInt                                         title  \n",
       "0  1373486466  Welcome to the companion site to this map...  \n",
       "1  1373488561                                          None  "
      ]
     },
     "execution_count": 1,
     "metadata": {},
     "output_type": "execute_result"
    }
   ],
   "source": [
    "#normPosts.json comes from normPosts.ipynb\n",
    "\n",
    "import pandas as pd\n",
    "df = pd.read_json('normPosts.json')\n",
    "print(f'read {len(df)} posts')\n",
    "df = df.sort_values('timeInt')\n",
    "df.iloc[:2,:]"
   ]
  },
  {
   "cell_type": "markdown",
   "metadata": {},
   "source": [
    "### we want to assign userNameNumbers in order of appearance"
   ]
  },
  {
   "cell_type": "code",
   "execution_count": null,
   "metadata": {},
   "outputs": [],
   "source": []
  },
  {
   "cell_type": "code",
   "execution_count": 2,
   "metadata": {},
   "outputs": [
    {
     "name": "stdout",
     "output_type": "stream",
     "text": [
      "len df 76238\n",
      "len usernames 76238\n"
     ]
    }
   ],
   "source": [
    "#give each record a username\n",
    "usernames = [a['username'] for a in df['author']]\n",
    "df['username'] = usernames\n",
    "\n",
    "print(f'len df {len(df)}')\n",
    "print(f'len usernames {len(usernames)}')\n",
    "\n",
    "#assign uniqueUserNameNumbers\n",
    "\n",
    "#first collect unique Names\n",
    "uniqueUserNames = [] #these should preserve order in which usernames appear on the scene\n",
    "for username in usernames:\n",
    "    if username not in uniqueUserNames:\n",
    "        uniqueUserNames.append(username)\n",
    "\n",
    "#associate numbers to unique names\n",
    "userNameNumbers = dict()\n",
    "for i, uUN in enumerate(uniqueUserNames):\n",
    "    userNameNumbers[uUN] = i\n",
    "\n",
    "#for the Graph\n",
    "ys = [userNameNumbers[username] for username in usernames]\n",
    "colors = [ y % 12 for y in ys]\n",
    "\n",
    "\n",
    "df['ts'] = df['isoformat'] #just so it's here\n",
    "df['ys'] = ys\n",
    "df['colors']  = colors\n"
   ]
  },
  {
   "cell_type": "code",
   "execution_count": null,
   "metadata": {},
   "outputs": [],
   "source": []
  },
  {
   "cell_type": "markdown",
   "metadata": {},
   "source": [
    "## create 2 jsons with just what we need"
   ]
  },
  {
   "cell_type": "code",
   "execution_count": 3,
   "metadata": {},
   "outputs": [],
   "source": [
    "#### beware: csvs sometimes choke on HTML"
   ]
  },
  {
   "cell_type": "code",
   "execution_count": null,
   "metadata": {},
   "outputs": [],
   "source": []
  },
  {
   "cell_type": "code",
   "execution_count": null,
   "metadata": {},
   "outputs": [],
   "source": []
  },
  {
   "cell_type": "code",
   "execution_count": null,
   "metadata": {},
   "outputs": [],
   "source": []
  },
  {
   "cell_type": "code",
   "execution_count": null,
   "metadata": {},
   "outputs": [],
   "source": []
  },
  {
   "cell_type": "code",
   "execution_count": 4,
   "metadata": {},
   "outputs": [],
   "source": [
    "bodies = []\n",
    "for tup in df.itertuples():\n",
    "    entry = dict(\n",
    "        ID=tup.ID, \n",
    "        username=tup.username,\n",
    "        isoformat = tup.isoformat,\n",
    "        body=tup.body, \n",
    "        body_html=tup.body_html )\n",
    "    bodies.append(entry)\n",
    "bodiesDF = pd.DataFrame(bodies)\n",
    "#bodiesDF.to_csv('dataForHoverPanel.csv', index=False)\n",
    "#print('created dataForHoverPanel.csv')\n",
    "\n",
    "#bodiesDF.to_json('dataForHoverPanel.json')\n",
    "#print('created dataForHoverPanel.json')"
   ]
  },
  {
   "cell_type": "code",
   "execution_count": null,
   "metadata": {},
   "outputs": [],
   "source": []
  },
  {
   "cell_type": "raw",
   "metadata": {},
   "source": []
  },
  {
   "cell_type": "code",
   "execution_count": null,
   "metadata": {},
   "outputs": [],
   "source": []
  },
  {
   "cell_type": "code",
   "execution_count": 5,
   "metadata": {},
   "outputs": [
    {
     "name": "stdout",
     "output_type": "stream",
     "text": [
      "created dataForGraph.json\n"
     ]
    }
   ],
   "source": [
    "df['texts'] = [post['username'] + ' ' +  post['ts'].replace('T',' ') for post in df.to_dict('records')]\n",
    "#df = df.drop(['username', 'author', 'body', 'body_html', 'date_created',],axis=1)\n",
    "df = df.drop(['author', 'date_created',],axis=1)\n",
    "df = df.fillna('null')\n",
    "df.to_json('dataForGraph.json')\n",
    "\n",
    "print('created dataForGraph.json')"
   ]
  },
  {
   "cell_type": "code",
   "execution_count": null,
   "metadata": {},
   "outputs": [],
   "source": []
  },
  {
   "cell_type": "code",
   "execution_count": 6,
   "metadata": {},
   "outputs": [],
   "source": [
    "MAKINGFIGURE= False\n",
    "if MAKINGFIGURE:\n",
    "    from IPython.display import display\n",
    "    \n",
    "    newdf=pd.read_json('dataForGraph.json')\n",
    "    \n",
    "    import plotly.graph_objs as go\n",
    "    fig = go.Figure(\n",
    "        dict(\n",
    "            data = [\n",
    "                go.Scattergl(\n",
    "                    x = newdf['ts'],\n",
    "                    y=  newdf['ys'],\n",
    "                    mode='markers',\n",
    "                    marker=dict(\n",
    "                        size=4,\n",
    "                        symbol='square',\n",
    "                        color= newdf['colors'],\n",
    "                        colorscale='Jet'\n",
    "                    ),\n",
    "                    name='JonTest',\n",
    "                    hovertext =  newdf['texts'],\n",
    "                    hoverinfo = 'text', #could be changed for Date and Name\n",
    "                    #customdata= newdf['customs']\n",
    "                )\n",
    "            ],\n",
    "\n",
    "            layout = go.Layout(\n",
    "                hovermode='closest',\n",
    "                title=\"People and Posts over time, colored by Person\",\n",
    "                xaxis_title=\"Time\",\n",
    "                yaxis_title=\"People\",\n",
    "                height=1000,\n",
    "                width=1500\n",
    "            )\n",
    "        ) \n",
    "    )\n",
    "    \n",
    "    display(fig)"
   ]
  },
  {
   "cell_type": "code",
   "execution_count": null,
   "metadata": {},
   "outputs": [],
   "source": []
  },
  {
   "cell_type": "code",
   "execution_count": null,
   "metadata": {},
   "outputs": [],
   "source": []
  },
  {
   "cell_type": "code",
   "execution_count": null,
   "metadata": {},
   "outputs": [],
   "source": []
  },
  {
   "cell_type": "code",
   "execution_count": null,
   "metadata": {},
   "outputs": [],
   "source": []
  }
 ],
 "metadata": {
  "kernelspec": {
   "display_name": "Python 3",
   "language": "python",
   "name": "python3"
  },
  "language_info": {
   "codemirror_mode": {
    "name": "ipython",
    "version": 3
   },
   "file_extension": ".py",
   "mimetype": "text/x-python",
   "name": "python",
   "nbconvert_exporter": "python",
   "pygments_lexer": "ipython3",
   "version": "3.7.4"
  }
 },
 "nbformat": 4,
 "nbformat_minor": 4
}
