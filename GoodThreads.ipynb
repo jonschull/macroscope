{
 "cells": [
  {
   "cell_type": "code",
   "execution_count": 10,
   "metadata": {},
   "outputs": [],
   "source": [
    "import pandas as pd\n",
    "pd.set_option('display.max_rows', 20)\n",
    "from IPython.display import display\n",
    "newdf=pd.read_json('dataForGraph.json')\n",
    "newdf = newdf.sort_values('ID')"
   ]
  },
  {
   "cell_type": "code",
   "execution_count": null,
   "metadata": {},
   "outputs": [],
   "source": []
  },
  {
   "cell_type": "code",
   "execution_count": 11,
   "metadata": {},
   "outputs": [],
   "source": [
    "#one big df \n",
    "maxID = max(newdf['ID'])\n",
    "\n",
    "recs=[]\n",
    "lastID = -1\n",
    "for tup in newdf.itertuples():\n",
    "    if round(tup.ID) > round(lastID):\n",
    "        lastID+=1\n",
    "        rec = dict(ID=None, x=None, y=None, color=None)\n",
    "        recs.append(rec)\n",
    "        lastID = tup.ID\n",
    "    rec = dict(ID=tup.ID, x=tup.ts, y=tup.ID - round(tup.ID), color=tup.colors)\n",
    "    recs.append(rec)\n",
    "            \n",
    "recdf = pd.DataFrame(recs)\n",
    "recdfs=[]\n",
    "recdfs.append(recdf)"
   ]
  },
  {
   "cell_type": "code",
   "execution_count": 83,
   "metadata": {},
   "outputs": [],
   "source": [
    "if False:  #Takes too long to be practical but does work\n",
    "\n",
    "    #alternative to get many traces use many dfs\n",
    "    from collections import OrderedDict\n",
    "    maxID = max(newdf['ID'])\n",
    "    recdfs=[]\n",
    "    recs=[]\n",
    "    lastID = -1\n",
    "    for tup in newdf.itertuples():\n",
    "        if round(tup.ID) > round(lastID):\n",
    "            if recs:\n",
    "                recdfs.append(pd.DataFrame(recs))\n",
    "                recs=[]\n",
    "            lastID+=1\n",
    "            rec = dict(ID=None, x=None, y=None, color=None)\n",
    "            recs.append(rec)\n",
    "            lastID = tup.ID\n",
    "        rec = dict(ID=tup.ID, x=tup.ts, y=tup.ID - round(tup.ID), color=tup.colors)\n",
    "        recs.append(rec)\n"
   ]
  },
  {
   "cell_type": "code",
   "execution_count": null,
   "metadata": {},
   "outputs": [],
   "source": []
  },
  {
   "cell_type": "code",
   "execution_count": 14,
   "metadata": {},
   "outputs": [],
   "source": [
    "import plotly.graph_objects as go\n",
    "\n",
    "import numpy as np\n",
    "\n",
    "N = 100000\n",
    "\n",
    "# Create figure\n",
    "fig = go.Figure()\n",
    "\n",
    "for recdf in recdfs:\n",
    "    fig.add_trace(\n",
    "        go.Scattergl(\n",
    "            x = recdf.x,\n",
    "            y = recdf.y,\n",
    "            mode = 'markers+lines',\n",
    "            line = dict(color='rgba(135, 206, 250, 0.8)',\n",
    "                        width=1\n",
    "                       ),\n",
    "            marker = dict(\n",
    "                color = recdf.color,\n",
    "                colorscale='Jet',\n",
    "                size=5,\n",
    "            )\n",
    "        )\n",
    "    )\n",
    "\n",
    "\n",
    "#fig"
   ]
  },
  {
   "cell_type": "code",
   "execution_count": null,
   "metadata": {},
   "outputs": [],
   "source": []
  },
  {
   "cell_type": "code",
   "execution_count": null,
   "metadata": {},
   "outputs": [],
   "source": []
  }
 ],
 "metadata": {
  "kernelspec": {
   "display_name": "Python 3",
   "language": "python",
   "name": "python3"
  },
  "language_info": {
   "codemirror_mode": {
    "name": "ipython",
    "version": 3
   },
   "file_extension": ".py",
   "mimetype": "text/x-python",
   "name": "python",
   "nbconvert_exporter": "python",
   "pygments_lexer": "ipython3",
   "version": "3.7.4"
  }
 },
 "nbformat": 4,
 "nbformat_minor": 4
}
