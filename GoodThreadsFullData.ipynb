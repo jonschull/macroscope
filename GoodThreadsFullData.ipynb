{
 "cells": [
  {
   "cell_type": "code",
   "execution_count": 10,
   "metadata": {},
   "outputs": [],
   "source": [
    "#one big df \n",
    "import pandas as pd\n",
    "\n",
    "\n",
    "def addRows(newdf):\n",
    "    maxID = max(newdf['ID'])\n",
    "\n",
    "    recs=[]\n",
    "    lastID = -1\n",
    "    for rec in newdf.to_dict('records'):\n",
    "        if round(rec['ID']) > round(lastID):\n",
    "            lastID+=1\n",
    "            #rec = dict(ID=None, x=None, y=None, color=None) #insert blank rows so each thread stops at last item\n",
    "            rec['x'] = None\n",
    "            rec['y'] = None\n",
    "            rec['ts'] = None\n",
    "            rec['body'] = ''\n",
    "            rec['body_html'] = None\n",
    "            rec['username'] = None\n",
    "            rec['isoformat'] = None\n",
    "            rec['title'] = None\n",
    "            recs.append(rec)\n",
    "            lastID = rec['ID']\n",
    "        #rec = dict(ID=rec['ID'], x=rec['ts'], y=rec['ID'] + 200000*(rec['ID'] - round(rec['ID'])), color=rec['colors'], IDcolor=int(rec['ID']%10))\n",
    "                                                   #put comments higher\n",
    "        rec['x'] = rec['ts']\n",
    "        rec['y'] = rec['ID'] + 200000*(rec['ID'] - round(rec['ID']))\n",
    "        rec['IDcolor'] = int(rec['ID']%10)\n",
    "        recs.append(rec)\n",
    "\n",
    "    recdf = pd.DataFrame(recs)\n",
    "    return recdf\n",
    "\n"
   ]
  },
  {
   "cell_type": "code",
   "execution_count": 11,
   "metadata": {},
   "outputs": [],
   "source": [
    "import plotly.graph_objects as go\n",
    "\n",
    "def threadGraph(recdf):\n",
    "    # Create figure\n",
    "    fig = go.Figure()\n",
    "\n",
    "    fig.add_trace(\n",
    "        go.Scattergl(\n",
    "            x = recdf.x,\n",
    "            y = recdf.y,\n",
    "            mode = 'markers+lines',\n",
    "            line = dict(color='black',\n",
    "                        width=0.5,\n",
    "                       ),\n",
    "            marker = dict(\n",
    "                color = recdf.colors,\n",
    "                colorscale='Jet',\n",
    "                line={'color':recdf.IDcolor,\n",
    "                     'width':1.1,\n",
    "                     'colorscale':'jet'},\n",
    "                size=7,\n",
    "            )\n",
    "        )\n",
    "    )\n",
    "\n",
    "\n",
    "    return fig\n"
   ]
  },
  {
   "cell_type": "code",
   "execution_count": 14,
   "metadata": {},
   "outputs": [
    {
     "name": "stdout",
     "output_type": "stream",
     "text": [
      "Index(['ID', 'body', 'body_html', 'category', 'isoformat', 'members_only',\n",
      "       'timeInt', 'title', 'username', 'ts', 'ys', 'colors', 'texts'],\n",
      "      dtype='object')\n"
     ]
    }
   ],
   "source": [
    "if __name__ == '__main__':\n",
    "    pd.set_option('display.max_rows', 20)\n",
    "    from IPython.display import display\n",
    "    df=pd.read_json('dataForGraph.json') \n",
    "    df = df.sort_values('ID')\n",
    "    print(df.columns)\n",
    "    \n",
    "    recdf = addRows(df)\n",
    "    \n",
    "    #display(threadGraph(recdf))"
   ]
  },
  {
   "cell_type": "code",
   "execution_count": null,
   "metadata": {},
   "outputs": [],
   "source": []
  },
  {
   "cell_type": "code",
   "execution_count": null,
   "metadata": {},
   "outputs": [],
   "source": []
  }
 ],
 "metadata": {
  "kernelspec": {
   "display_name": "Python 3",
   "language": "python",
   "name": "python3"
  },
  "language_info": {
   "codemirror_mode": {
    "name": "ipython",
    "version": 3
   },
   "file_extension": ".py",
   "mimetype": "text/x-python",
   "name": "python",
   "nbconvert_exporter": "python",
   "pygments_lexer": "ipython3",
   "version": "3.7.4"
  }
 },
 "nbformat": 4,
 "nbformat_minor": 4
}
