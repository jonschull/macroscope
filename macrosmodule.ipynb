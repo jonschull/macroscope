{
 "cells": [
  {
   "cell_type": "markdown",
   "metadata": {
    "endofcell": "--"
   },
   "source": [
    "### Operating principles"
   ]
  },
  {
   "cell_type": "markdown",
   "metadata": {
    "endofcell": "--"
   },
   "source": [
    "* read in dump.json as mazvy gives it. This will allow him to take responsiblity for updating or appending to dump.json.\n",
    "* Create new columns in dedicated cells; \n",
    "* do not rewrite or drop original columns (to facilitate bug testing; unless memory becomes a problem)\n",
    "\n",
    "### notes\n",
    "`conda install plotly\n",
    "pip install markdownify\n",
    "to use in jupyter requires the jupyterlab/plotly-extension\n",
    "\n",
    "o use jupytext https://jupytext.readthedocs.io/en/latest/examples.html\n",
    "    use the terminals and extensions sidebar to \n",
    "        pip install the jupytext extension using the extension manager\n",
    "    install juptext\n",
    "        use the terminals and extensions sidebar to pair your ipynb with a light script`\n",
    "    \n",
    "    \n",
    "TODO: \n",
    "* workwith mazvy on updating and avatar images\n",
    "* when showing only one graph, am I updating all three??\n",
    "    YES.  Could optimize by saving full graph in browser and by updating only the visible graph\n"
   ]
  },
  {
   "cell_type": "markdown",
   "metadata": {
    "endofcell": "--"
   },
   "source": [
    "# code"
   ]
  },
  {
   "cell_type": "code",
   "execution_count": 2,
   "metadata": {
    "endofcell": "--"
   },
   "outputs": [],
   "source": [
    "import plotly.express as px\n",
    "import pandas as pd\n",
    "\n",
    "df = pd.read_json('dump.json')\n",
    "df.columns\n",
    "\n",
    "df['threadY'] = (df.id - round(df.id) * 100000)\n",
    "df['name'] = [user.replace('(Legacy) ', '') for user in df['user']] \n",
    "df['text'] = [tup.name + ' ' + str(tup.datetime)[:19] for tup in df.itertuples()] #Jon Schull 2013-07-10 20:01:06"
   ]
  },
  {
   "cell_type": "markdown",
   "metadata": {
    "endofcell": "--"
   },
   "source": [
    "### Markdown"
   ]
  },
  {
   "cell_type": "code",
   "execution_count": 3,
   "metadata": {
    "endofcell": "--"
   },
   "outputs": [
    {
     "name": "stdout",
     "output_type": "stream",
     "text": [
      "inJupyter: True\n"
     ]
    }
   ],
   "source": [
    "from IPython.display import Markdown\n",
    "from markdownOfThread import markdownOfThread\n",
    "#Markdown(markdownOfThread(df,9))\n",
    "\n",
    "# ## addTo the dataFrame\n",
    "\n",
    "df['threadY'] = (df.id - round(df.id) * 100000)\n",
    "df['name'] = [user.replace('(Legacy) ', '') for user in df['user']] \n",
    "df['text'] = [tup.name + ' ' + str(tup.datetime)[:19] for tup in df.itertuples()] # Jon Schull 2013-07-10 20:01:06\n",
    "\n",
    "\n",
    "df['IDcolor']=round(df['id']%10) #ten discrete colors.  \n",
    "df['IDcolor'] = df['IDcolor'].astype(str) #needed for discrete colorscale?\n",
    "df['threadPos'] = 0.01 + 100*(df.id - round(df.id))  #for sizing.  Grows with the post's position in the thread with a minimum size of 0.01\n"
   ]
  },
  {
   "cell_type": "markdown",
   "metadata": {
    "endofcell": "--"
   },
   "source": [
    "### make UniqueNameNumbers"
   ]
  },
  {
   "cell_type": "code",
   "execution_count": 4,
   "metadata": {
    "endofcell": "--"
   },
   "outputs": [],
   "source": [
    "#names = df['user']\n",
    "uniqueNames = []\n",
    "for name in df.name:\n",
    "    name = name.replace('(Legacy) ', '')\n",
    "    if name not in uniqueNames:\n",
    "        uniqueNames.append(name)\n",
    "        \n",
    "from collections import OrderedDict\n",
    "uniqueNameNumbers = UNN = OrderedDict()\n",
    "for i,name in enumerate( uniqueNames ):\n",
    "    UNN[name] = i\n",
    "\n",
    "UNNs = []\n",
    "for name in df.name:\n",
    "        UNNs.append(UNN[ name.replace('(Legacy) ','')])\n",
    "#UNNs\n",
    "\n",
    "df['UNN'] = UNNs\n",
    "df['UNNcolor'] = df['UNN'] % 10\n",
    "df['UNNcolor'] = df['UNNcolor'].astype(str)\n",
    "df['smThreadPos'] = df.threadPos / 1000"
   ]
  },
  {
   "cell_type": "markdown",
   "metadata": {
    "endofcell": "--"
   },
   "source": [
    "## makeCustomXaxis for the bothFig"
   ]
  },
  {
   "cell_type": "code",
   "execution_count": 5,
   "metadata": {
    "endofcell": "--"
   },
   "outputs": [
    {
     "data": {
      "text/plain": [
       "odict_keys(['peopleFig', 'threadsFig', 'bothFig'])"
      ]
     },
     "execution_count": 5,
     "metadata": {},
     "output_type": "execute_result"
    }
   ],
   "source": [
    "def makeCustomXaxis(df): #for bothFig\n",
    "    df = df.sort_values('datetime')\n",
    "    #jonrows = df.query('UNN==0')\n",
    "    recs = df.to_dict('records')  \n",
    "\n",
    "    tickIDs = []\n",
    "    ticktext = []\n",
    "    for i, row in enumerate(recs):\n",
    "        if i==0: \n",
    "            tickIDs.append(row['id'])\n",
    "            ticktext.append(row['datetime'])\n",
    "        else:\n",
    "            if row['datetime'].day != recs[i-1]['datetime'].day:\n",
    "                tickIDs.append(row['id'])\n",
    "                ticktext.append(row['datetime'])\n",
    "\n",
    "    ticktext= [str(tt)[:10] for tt in ticktext]\n",
    "\n",
    "\n",
    "    downsample = 20\n",
    "    ticktext = [tt for i,tt in enumerate(ticktext) if i%downsample == 0 ]\n",
    "    tickIDs = [id for i, id in enumerate(tickIDs)  if i%downsample == 0 ]\n",
    "\n",
    "\n",
    "    customXaxis=dict(\n",
    "                                 tickmode = 'array',\n",
    "                                 tickvals = tickIDs,\n",
    "                                 ticktext = ticktext\n",
    "                       )\n",
    "    return customXaxis\n",
    "\n",
    "\n",
    "# ##  makeFig, makeFigs\n",
    "\n",
    "# +\n",
    "def makeFig(df, x='datetime', y='UNN', customAxis=False, \n",
    "            plotTitle='', yTitle='',color='IDcolor'):\n",
    "    \n",
    "    fig = px.scatter(df,x=x, y=y, hover_data=['id'], \n",
    "                     color= color, size='smThreadPos', \n",
    "                     height=400, hover_name='text',\n",
    "                     opacity=0.3, template='plotly_dark',\n",
    "                    )\n",
    "    \n",
    "    fig.update_layout(showlegend=False, \n",
    "                      title=plotTitle,\n",
    "                     )\n",
    "    \n",
    "    fig.update_xaxes(\n",
    "         rangeslider=dict(visible=True, thickness=0.02, bgcolor='yellow')  )\n",
    "    \n",
    "    fig.update_yaxes(title_text=yTitle,  fixedrange=False)\n",
    "    \n",
    "    if customAxis:\n",
    "        fig.update_xaxes(title_text = 'Successive Threads over Time')\n",
    "        fig.update_layout(showlegend=False,\n",
    "                          xaxis = makeCustomXaxis(df) )\n",
    "    return fig\n",
    "\n",
    "def makeFigs(df):\n",
    "    \"\"\"return a dictionary of figs\n",
    "    \"\"\"\n",
    "\n",
    "    figs = OrderedDict() \n",
    "\n",
    "    figs['peopleFig'] = makeFig(df, x='datetime', y='UNN', color='IDcolor',\n",
    "                            plotTitle='People over time. Colored by Thread',\n",
    "                            yTitle = 'People in order of appearance.')\n",
    "\n",
    "    figs['threadsFig'] = makeFig(df, x='datetime', y='id', color='UNNcolor',\n",
    "                           plotTitle='Threads over time. Colored by Person',\n",
    "                           yTitle = 'Posts in order of appearance')\n",
    "\n",
    "    figs['bothFig'] =  makeFig (df, x='id', y='UNN', customAxis=True, color='UNNcolor',\n",
    "                            plotTitle='People and Threads over Time. Colored by Person',\n",
    "                            yTitle = 'People in order of appearance')\n",
    "    return figs\n",
    "\n",
    "fullFigs = makeFigs(df) #these will be global and cooked.\n",
    "fullFigs.keys()"
   ]
  },
  {
   "cell_type": "code",
   "execution_count": null,
   "metadata": {},
   "outputs": [],
   "source": []
  },
  {
   "cell_type": "markdown",
   "metadata": {
    "endofcell": "--"
   },
   "source": [
    "# Dash App! \n",
    "\n",
    "in Jupyter, requires the dash jupyter_lab extension (pip installed and enabled in Extension Mgr)\n",
    "\n",
    "## Develop and test Components\n"
   ]
  },
  {
   "cell_type": "code",
   "execution_count": 6,
   "metadata": {
    "endofcell": "--"
   },
   "outputs": [
    {
     "name": "stdout",
     "output_type": "stream",
     "text": [
      "inJupyter: True\n"
     ]
    }
   ],
   "source": [
    "import sys    \n",
    "inJupyter = sys.argv[-1].endswith('json')\n",
    "print(f'inJupyter: {inJupyter}')\n",
    "\n",
    "if inJupyter:\n",
    "    import jupyterlab_dash #https://github.com/plotly/jupyterlab-dash"
   ]
  },
  {
   "cell_type": "code",
   "execution_count": 7,
   "metadata": {
    "endofcell": "--"
   },
   "outputs": [],
   "source": [
    "\n",
    "import dash\n",
    "import dash_html_components as html\n",
    "import dash_bootstrap_components as dbc\n",
    "import dash_core_components as dcc\n",
    "import visdcc #used for javascript.  Not currently used\n",
    "\n",
    "\n",
    "# #### layout Tester \n",
    "\n",
    "# +\n",
    "def testLayoutInJupyter(layout=html.H1('hello')):\n",
    "    if not inJupyter:\n",
    "        return\n",
    "        \n",
    "    global viewer\n",
    "    \n",
    "    app=dash.Dash(__name__)\n",
    "    app.layout = layout\n",
    "    \n",
    "    if not 'viewer' in globals(): #create the viewer once\n",
    "        viewer = jupyterlab_dash.AppViewer() \n",
    "        \n",
    "    viewer.show(app)\n",
    "    return viewer\n",
    "\n",
    "viewer = testLayoutInJupyter()\n",
    "\n",
    "#to destroy:\n",
    "#viewer.terminate()\n",
    "#del(viewer)"
   ]
  },
  {
   "cell_type": "markdown",
   "metadata": {
    "endofcell": "--",
    "toc-hr-collapsed": true
   },
   "source": [
    "### leftPanel"
   ]
  },
  {
   "cell_type": "code",
   "execution_count": 8,
   "metadata": {
    "endofcell": "--"
   },
   "outputs": [],
   "source": [
    "leftPanel = dbc.Col([  html.H2(\"Selected Thread\"),\n",
    "                           dcc.Markdown('selected thread __goes here__', id='HoverBox')],\n",
    "                    width=3,\n",
    "                    style={'overflowY': 'scroll', 'height': 1200}\n",
    "                )\n",
    "viewer = testLayoutInJupyter(leftPanel)"
   ]
  },
  {
   "cell_type": "markdown",
   "metadata": {
    "endofcell": "--"
   },
   "source": [
    "#### dropDown"
   ]
  },
  {
   "cell_type": "code",
   "execution_count": 9,
   "metadata": {
    "endofcell": "--"
   },
   "outputs": [],
   "source": [
    "dropDown = dcc.Dropdown(\n",
    "                        id='dropdown',\n",
    "                        style={'color':'#000'},\n",
    "                        options=[\n",
    "                            {'label': 'All three graphs', 'value': 'allThree'},                            \n",
    "                            {'label': 'Just People and Threads over time, Color=Thread', 'value': 'justOne'},\n",
    "                        ],\n",
    "                        value='allThree'\n",
    "                    )\n",
    "viewer = testLayoutInJupyter(dropDown)"
   ]
  },
  {
   "cell_type": "markdown",
   "metadata": {
    "endofcell": "--",
    "toc-hr-collapsed": false
   },
   "source": [
    "### twinRow \n",
    "(side by side People and Thread figs)"
   ]
  },
  {
   "cell_type": "code",
   "execution_count": 10,
   "metadata": {
    "endofcell": "--"
   },
   "outputs": [],
   "source": [
    "def twinRow(hide_twinRow=False):\n",
    "    if hide_twinRow:\n",
    "        return dbc.Row(children = [ dbc.Col(  style={'display': 'none'}, width=6, children = [ dcc.Graph(id='peopleFig', figure=fullFigs['peopleFig']), ]),\n",
    "                                dbc.Col(   style={'display': 'none'}, width=6, children = [ dcc.Graph(id='threadsFig',   figure=fullFigs['threadsFig']) ])], \n",
    "                 id= 'twinRow', style={'background-color':'#111'}, no_gutters= True )\n",
    "\n",
    "    \n",
    "    #else\n",
    "    return dbc.Row(children = [ dbc.Col( width=6, children = [ dcc.Graph(id='peopleFig', figure=fullFigs['peopleFig']), ]),\n",
    "                                dbc.Col(width=6, children = [ dcc.Graph(id='threadsFig',   figure=fullFigs['threadsFig']) ])], \n",
    "                 id= 'twinRow', style={'background-color':'#111'},  no_gutters= True )\n",
    "\n",
    "viewer = testLayoutInJupyter(twinRow())"
   ]
  },
  {
   "cell_type": "markdown",
   "metadata": {
    "endofcell": "--",
    "toc-hr-collapsed": false
   },
   "source": [
    "### Searchbox"
   ]
  },
  {
   "cell_type": "raw",
   "metadata": {
    "endofcell": "--"
   },
   "source": [
    "OLD SEARCHBOX\n",
    "\n",
    "searchBox = html.Div(\n",
    "        [html.Span(id='numFound', children=f'{len(df)}'),\n",
    "         html.Span(' datapoints'),\n",
    "         html.Br(),\n",
    "         html.Span('Filter by '),\n",
    "         dcc.Input(id='Cfilter',\n",
    "                       placeholder='name or phrase, or query like == threadID>10000',\n",
    "                       type='text',\n",
    "                       size = '50',\n",
    "                       value=''),\n",
    "          \n",
    "          html.Button('Redraw!', id='Redraw!'),\n",
    "          html.P(id='searchBoxMessage')\n",
    "        ],\n",
    "                   id='searchBox'\n",
    "                  )\n",
    "\n"
   ]
  },
  {
   "cell_type": "code",
   "execution_count": 11,
   "metadata": {},
   "outputs": [],
   "source": [
    "hints = \"\"\"Hints:\n",
    "* Type a name or phrase to filter by content.  \n",
    "* Click __Redraw__ to see the data.\n",
    "\n",
    "\n",
    "You can also try queries.  Queries begin with == (*two* equal signs)\n",
    "* __id__ is threadID  (the first post in thread 43 is 43.0, the next ones are 43.001, 43.002 ... 43.999 )\n",
    "* __UNN__ is userID \n",
    "\n",
    "When you click on a data point, the Query box is pre-populated with a query for that thread.  \n",
    "\n",
    "So the query for thread 43 is ___==43 <= id < 44___.  \n",
    "\n",
    "*Get it?*\n",
    "\n",
    "For more information, google __\"panda queries\"__ \"\"\"\n",
    "\n",
    "\n",
    "\n",
    "tooltip = dbc.Tooltip(\n",
    "    dcc.Markdown(hints), \n",
    "    target='hints',\n",
    "    placement='right',\n",
    "    autohide=False,\n",
    "    style = {'text-align':'left', 'background-color':'grey'}\n",
    "    )\n",
    "\n",
    "\n",
    "\n",
    "searchBox = html.Div(\n",
    "        [html.Span(id='numFound', children=f'{len(df)}'),\n",
    "         html.Span(' datapoints.  '), html.Button('((?))', id='hints',style={'background-color':'yellow'}),\n",
    "         html.Br(),\n",
    "         html.Span('Filter by '),\n",
    "         dcc.Input(id='Cfilter',\n",
    "                       placeholder='name or phrase, or query like == id > 10000',\n",
    "                       type='text',\n",
    "                       size = '50',\n",
    "                       value=''),\n",
    "          tooltip,\n",
    "          html.Button('Redraw!', id='Redraw!'), \n",
    "          html.P(id='searchBoxMessage')\n",
    "        ],\n",
    "                   id='searchBox'\n",
    "                  )\n",
    "\n",
    "\n",
    "viewer = testLayoutInJupyter(searchBox)"
   ]
  },
  {
   "cell_type": "markdown",
   "metadata": {
    "endofcell": "--"
   },
   "source": [
    "#### test SearchBox"
   ]
  },
  {
   "cell_type": "code",
   "execution_count": 12,
   "metadata": {},
   "outputs": [
    {
     "data": {
      "text/plain": [
       "'8'"
      ]
     },
     "execution_count": 12,
     "metadata": {},
     "output_type": "execute_result"
    }
   ],
   "source": [
    "def queryResponse(queryPhrase='6<id<7'):\n",
    "    testerdf =   df.head(1)     \n",
    "    Error=''\n",
    "    \n",
    "    try:\n",
    "        testerdf.query(queryPhrase)\n",
    "    except  Exception:\n",
    "        Error = '[Bad Query]'\n",
    "        return Error, None\n",
    "\n",
    "    if not Error:\n",
    "        newdf = df.query(queryPhrase)\n",
    "        return str(len(newdf)), newdf\n",
    "    \n",
    "queryResponse('6<id<8')[0]"
   ]
  },
  {
   "cell_type": "code",
   "execution_count": null,
   "metadata": {
    "active": "py",
    "endofcell": "--"
   },
   "outputs": [],
   "source": []
  },
  {
   "cell_type": "markdown",
   "metadata": {},
   "source": [
    "### right panel"
   ]
  },
  {
   "cell_type": "code",
   "execution_count": 13,
   "metadata": {
    "endofcell": "--"
   },
   "outputs": [
    {
     "data": {
      "text/plain": [
       "<jupyterlab_dash.AppViewer at 0x1314ba790>"
      ]
     },
     "execution_count": 13,
     "metadata": {},
     "output_type": "execute_result"
    }
   ],
   "source": [
    "def rightPanel(hide_twinRow=False):\n",
    "    return dbc.Col(id='rightPanel',\n",
    "                    style={'background-color':'#111', 'color':'#FFF'},\n",
    "                    width=9,\n",
    "                    children = [   \n",
    "                        html.P(id='msgBox', children=''),\n",
    "                        html.H3('e-NABLE on G+, Wikifactory, and hub.e-NABLE.org...'),\n",
    "                        html.Br(),\n",
    "                        searchBox,\n",
    "                        dcc.Markdown(\"\"\"\n",
    "* **Mouse over** a data point to see author and date.\n",
    "* **Click** on a data point to view the Thread or **>>>Participate** at hub.e-nable.org\n",
    "                        \"\"\"),\n",
    "                       dropDown,  \n",
    "                       #html.P(),\n",
    "                       visdcc.Run_js(id = 'javascript'),\n",
    "                       twinRow(hide_twinRow), \n",
    "                       dcc.Graph(id='bothFig', figure=fullFigs['bothFig'],\n",
    "                       style={'background-color':'#111'}\n",
    "                   ) \n",
    "                ])\n",
    "\n",
    "testLayoutInJupyter(rightPanel())"
   ]
  },
  {
   "cell_type": "markdown",
   "metadata": {
    "endofcell": "--"
   },
   "source": [
    "### both Panels"
   ]
  },
  {
   "cell_type": "markdown",
   "metadata": {
    "endofcell": "--"
   },
   "source": [
    "## App with Callbacks"
   ]
  },
  {
   "cell_type": "code",
   "execution_count": 14,
   "metadata": {
    "endofcell": "--"
   },
   "outputs": [],
   "source": [
    "app = dash.Dash(__name__)\n",
    "\n",
    "app = dash.Dash(__name__, external_stylesheets=['assets/bootstrap-grid.min'])  ### now uses css in assets dir?\n",
    "\n",
    "app.layout = dbc.Container(dbc.Row([\n",
    "                leftPanel,\n",
    "                rightPanel(False)]), fluid=True)\n",
    "\n",
    "from dash.dependencies import Input, Output, State\n",
    "\n",
    "######################################\n",
    "#SearchBox Callbacks\n",
    "####### update Figures with when ........ Redraw!\n",
    "@app.callback(\n",
    "    [Output('peopleFig','figure'),\n",
    "     Output('threadsFig','figure'),\n",
    "     Output('bothFig','figure')],\n",
    "    [Input('Redraw!', 'n_clicks'),\n",
    "     Input('Cfilter','value')]\n",
    ")\n",
    "def updateFigures(redraw, searchPhrase):\n",
    "    source='unknown'\n",
    "    \n",
    "    ctx = dash.callback_context\n",
    "    if ctx.triggered:\n",
    "        if ctx.triggered[0]['value']:\n",
    "            source = ctx.triggered[0]['prop_id'].split('.')[0]\n",
    "\n",
    "    if source =='Redraw!':\n",
    "        #first get newdf\n",
    "        if searchPhrase.startswith('=='):\n",
    "            queryPhrase = searchPhrase[2:]\n",
    "            newdf = queryResponse(queryPhrase)[1]\n",
    "        else:\n",
    "            Cquery = df.body.str.contains(searchPhrase, case=False)         \n",
    "            Aquery = df.name.str.contains(searchPhrase, case=False)\n",
    "            newdf=df[Cquery | Aquery]\n",
    "\n",
    "        #then redraw\n",
    "        numFound = len(newdf)\n",
    "        if numFound == 0:\n",
    "            return list(makeFigs(df).values()) \n",
    "        else:\n",
    "            return list(makeFigs(newdf).values()) \n",
    "        \n",
    "    return [dash.no_update, dash.no_update, dash.no_update] #otherwise, no update\n",
    "\n",
    "################################\n",
    "##### UpdateNumFound with query\n",
    "@app.callback(\n",
    "    Output('numFound','children'),  #change \n",
    "    [Input('Cfilter', 'value')]\n",
    ")\n",
    "def updateNumFound(searchPhrase):\n",
    "    if searchPhrase.startswith('=='):\n",
    "        queryPhrase = searchPhrase[2:]\n",
    "        return f'{queryPhrase} =>> {queryResponse(queryPhrase)[0]}'\n",
    "\n",
    "    Aquery = df.name.str.contains(searchPhrase, case=False)\n",
    "    Cquery = df.body.str.contains(searchPhrase, case=False)         \n",
    "    newdf=df[Cquery | Aquery]\n",
    "\n",
    "    return str(len(newdf))\n",
    "\n",
    "################################\n",
    "####### Dropdown Callback\n",
    "@app.callback(\n",
    "    Output('twinRow','children'),\n",
    "    [Input('dropdown', 'value')]\n",
    ")\n",
    "def test(dropdown):\n",
    "    hide_twinRow = dropdown == 'justOne'\n",
    "    return twinRow(hide_twinRow).children\n",
    "\n",
    "################################\n",
    "####### ThreadBox callBack\n",
    "\n",
    "@app.callback(\n",
    "    [Output('HoverBox' , 'children'),\n",
    "     Output('Cfilter',   'value'   )    ],\n",
    "    \n",
    "    [Input('threadsFig', 'clickData'),\n",
    "     Input('peopleFig', 'clickData'),\n",
    "     Input('bothFig'  , 'clickData')     ]\n",
    ")\n",
    "def updateThreadBox(tdata, pdata, bdata):\n",
    "    ctx = dash.callback_context\n",
    "    if ctx.triggered:\n",
    "        if ctx.triggered[0]['value']:\n",
    "            \n",
    "            source =       ctx.triggered[0]['prop_id'].split('.')[0]\n",
    "            customdata =   ctx.triggered[0]['value']['points'][0]['customdata'][0]\n",
    "            \n",
    "            threadRet = f\"\"\" {source} {customdata} \n",
    "                        \n",
    "            {markdownOfThread(df, float(customdata))}\n",
    "            \"\"\"\n",
    "            \n",
    "            queryRet = f'==   {round(customdata)} <= id < {round(customdata+1)}'\n",
    "            return [threadRet, queryRet]\n",
    "     \n",
    "    return [dash.no_update, dash.no_update]\n",
    "\n",
    "if inJupyter:  #this allows running via python \n",
    "    if not 'viewer' in globals().keys():   #create the viewer once\n",
    "        viewer = jupyterlab_dash.AppViewer()\n",
    "    viewer.show(app)\n",
    "else:\n",
    "    if __name__ == \"__main__\":\n",
    "        app.run_server(debug=True)\n"
   ]
  },
  {
   "cell_type": "code",
   "execution_count": 121,
   "metadata": {},
   "outputs": [
    {
     "name": "stdout",
     "output_type": "stream",
     "text": [
      "inJupyter: False\n",
      "inJupyter: False\n",
      "Running on http://127.0.0.1:8050/\n",
      "Running on http://127.0.0.1:8050/\n",
      "Debugger PIN: 317-169-236\n",
      "Debugger PIN: 317-169-236\n",
      " * Serving Flask app \"macrosmodule\" (lazy loading)\n",
      " * Environment: production\n",
      "\u001b[31m   WARNING: This is a development server. Do not use it in a production deployment.\u001b[0m\n",
      "\u001b[2m   Use a production WSGI server instead.\u001b[0m\n",
      " * Debug mode: on\n",
      "inJupyter: False\n",
      "inJupyter: False\n",
      "Running on http://127.0.0.1:8050/\n",
      "Running on http://127.0.0.1:8050/\n",
      "Debugger PIN: 321-585-922\n",
      "Debugger PIN: 321-585-922\n",
      "inJupyter: False\n",
      "inJupyter: False\n",
      "Running on http://127.0.0.1:8050/\n",
      "Running on http://127.0.0.1:8050/\n",
      "Debugger PIN: 364-321-147\n",
      "Debugger PIN: 364-321-147\n",
      "inJupyter: False\n",
      "inJupyter: False\n",
      "Running on http://127.0.0.1:8050/\n",
      "Running on http://127.0.0.1:8050/\n",
      "Debugger PIN: 752-309-077\n",
      "Debugger PIN: 752-309-077\n",
      "inJupyter: False\n",
      "inJupyter: False\n",
      "Running on http://127.0.0.1:8050/\n",
      "Running on http://127.0.0.1:8050/\n",
      "Debugger PIN: 185-296-616\n",
      "Debugger PIN: 185-296-616\n",
      "inJupyter: False\n",
      "inJupyter: False\n",
      "Running on http://127.0.0.1:8050/\n",
      "Running on http://127.0.0.1:8050/\n",
      "Debugger PIN: 673-899-129\n",
      "Debugger PIN: 673-899-129\n",
      "inJupyter: False\n",
      "inJupyter: False\n",
      "Running on http://127.0.0.1:8050/\n",
      "Running on http://127.0.0.1:8050/\n",
      "Debugger PIN: 926-759-297\n",
      "Debugger PIN: 926-759-297\n",
      "inJupyter: False\n",
      "inJupyter: False\n",
      "Running on http://127.0.0.1:8050/\n",
      "Running on http://127.0.0.1:8050/\n",
      "Debugger PIN: 295-698-909\n",
      "Debugger PIN: 295-698-909\n",
      "inJupyter: False\n",
      "inJupyter: False\n",
      "Running on http://127.0.0.1:8050/\n",
      "Running on http://127.0.0.1:8050/\n",
      "Debugger PIN: 804-926-556\n",
      "Debugger PIN: 804-926-556\n",
      "^C\n",
      "Traceback (most recent call last):\n",
      "  File \"/Users/admin/Dropbox/macroscope/essentials/Hubdata/macrosmodule.py\", line 517, in <module>\n",
      "    f'== {round(customdata)} <= id < {{round(customdata+1)}}'\n",
      "NameError: name 'customdata' is not defined\n"
     ]
    }
   ],
   "source": [
    "!python macrosmodule.py  #you can interrupt kernel to stop"
   ]
  },
  {
   "cell_type": "code",
   "execution_count": null,
   "metadata": {},
   "outputs": [],
   "source": []
  },
  {
   "cell_type": "code",
   "execution_count": null,
   "metadata": {},
   "outputs": [],
   "source": []
  },
  {
   "cell_type": "code",
   "execution_count": null,
   "metadata": {},
   "outputs": [],
   "source": []
  }
 ],
 "metadata": {
  "jupytext": {
   "cell_metadata_filter": "-all",
   "formats": "ipynb,py:percent",
   "notebook_metadata_filter": "-all"
  },
  "kernelspec": {
   "display_name": "Python 3",
   "language": "python",
   "name": "python3"
  },
  "language_info": {
   "codemirror_mode": {
    "name": "ipython",
    "version": 3
   },
   "file_extension": ".py",
   "mimetype": "text/x-python",
   "name": "python",
   "nbconvert_exporter": "python",
   "pygments_lexer": "ipython3",
   "version": "3.7.4"
  },
  "toc-autonumbering": false,
  "toc-showcode": false,
  "toc-showmarkdowntxt": false,
  "toc-showtags": false
 },
 "nbformat": 4,
 "nbformat_minor": 4
}
