{
 "cells": [
  {
   "cell_type": "markdown",
   "metadata": {},
   "source": [
    "### Operating principles\n",
    "* read in dump.json as mazvy gives it. This will allow him to take responsiblity for updating or appending to dump.json.\n",
    "* Create new columns in dedicated cells; \n",
    "* do not rewrite or drop original columns (to facilitate bug testing; unless memory becomes a problem)\n"
   ]
  },
  {
   "cell_type": "code",
   "execution_count": 5,
   "metadata": {},
   "outputs": [],
   "source": [
    "noFigs=True"
   ]
  },
  {
   "cell_type": "code",
   "execution_count": 6,
   "metadata": {},
   "outputs": [],
   "source": [
    "import plotly.express as px\n",
    "import pandas as pd"
   ]
  },
  {
   "cell_type": "code",
   "execution_count": 7,
   "metadata": {},
   "outputs": [
    {
     "data": {
      "text/plain": [
       "Index(['id', 'user', 'body', 'topics', 'datetime', 'visibility',\n",
       "       'profilePicture', 'permalink'],\n",
       "      dtype='object')"
      ]
     },
     "execution_count": 7,
     "metadata": {},
     "output_type": "execute_result"
    }
   ],
   "source": [
    "df = pd.read_json('dump.json')\n",
    "df.columns"
   ]
  },
  {
   "cell_type": "code",
   "execution_count": 8,
   "metadata": {},
   "outputs": [],
   "source": [
    "df['threadY'] = (df.id - round(df.id) * 100000)\n",
    "df['name'] = [user.replace('(Legacy) ', '') for user in df['user']] \n",
    "df['text'] = [tup.name + ' ' + str(tup.datetime)[:19] for tup in df.itertuples()] #Jon Schull 2013-07-10 20:01:06\n"
   ]
  },
  {
   "cell_type": "code",
   "execution_count": 9,
   "metadata": {},
   "outputs": [],
   "source": [
    "from IPython.display import Markdown\n",
    "from markdownOfThread import markdownOfThread\n",
    "#Markdown(markdownOfThread(df,9))"
   ]
  },
  {
   "cell_type": "code",
   "execution_count": 10,
   "metadata": {},
   "outputs": [],
   "source": [
    "df['threadY'] = (df.id - round(df.id) * 100000)\n",
    "df['name'] = [user.replace('(Legacy) ', '') for user in df['user']] \n",
    "df['text'] = [tup.name + ' ' + str(tup.datetime)[:19] for tup in df.itertuples()] # Jon Schull 2013-07-10 20:01:06\n"
   ]
  },
  {
   "cell_type": "code",
   "execution_count": 11,
   "metadata": {},
   "outputs": [],
   "source": [
    "df['IDcolor']=round(df['id']%10) #ten discrete colors.  \n",
    "df['IDcolor'] = df['IDcolor'].astype(str) #needed for discrete colorscale?\n",
    "df['threadPos'] = 0.01 + 100*(df.id - round(df.id))  #for sizing.  Grows with the post's position in the thread with a minimum size of 0.01"
   ]
  },
  {
   "cell_type": "markdown",
   "metadata": {},
   "source": [
    "# ThreadsFig, colored by threadID"
   ]
  },
  {
   "cell_type": "code",
   "execution_count": 12,
   "metadata": {},
   "outputs": [],
   "source": [
    "fig = px.scatter(df, x='datetime', y='id', color='IDcolor', size='threadPos', height=800, hover_name='name', opacity=0.4, template='plotly_dark')\n",
    "fig.update_layout(showlegend=False, \n",
    "                  title_text='Threads: Posts over Time, Colored by Thread, Sized by Position in Thread')\n",
    "fig.update_yaxes(title_text='Successive Threads')\n",
    "threadsFig = fig\n",
    "if noFigs: threadsFig"
   ]
  },
  {
   "cell_type": "markdown",
   "metadata": {},
   "source": [
    "# PeopleFig"
   ]
  },
  {
   "cell_type": "code",
   "execution_count": 13,
   "metadata": {},
   "outputs": [],
   "source": [
    "#make UniqueNameNumbers\n",
    "#names = df['user']\n",
    "uniqueNames = []\n",
    "for name in df.name:\n",
    "    name = name.replace('(Legacy) ', '')\n",
    "    if name not in uniqueNames:\n",
    "        uniqueNames.append(name)\n",
    "        \n",
    "from collections import OrderedDict\n",
    "uniqueNameNumbers = UNN = OrderedDict()\n",
    "for i,name in enumerate( uniqueNames ):\n",
    "    UNN[name] = i\n",
    "\n",
    "UNNs = []\n",
    "for name in df.name:\n",
    "        UNNs.append(UNN[ name.replace('(Legacy) ','')])\n",
    "#UNNs"
   ]
  },
  {
   "cell_type": "code",
   "execution_count": 14,
   "metadata": {},
   "outputs": [],
   "source": [
    "df['UNN'] = UNNs\n",
    "df['UNNcolor'] = df['UNN'] % 10\n",
    "df['UNNcolor'] = df['UNNcolor'].astype(str)\n",
    "df['smThreadPos'] = df.threadPos / 1000"
   ]
  },
  {
   "cell_type": "code",
   "execution_count": 15,
   "metadata": {},
   "outputs": [],
   "source": [
    "fig = px.scatter(df,x='datetime', y='UNN', color='IDcolor',size='smThreadPos', height=800, hover_name='text', opacity=0.3, template='plotly_dark')\n",
    "fig.update_layout(showlegend=False, \n",
    "                  title_text='People: Posts over Time, Colored by Thread')\n",
    "fig.update_yaxes(title_text='People ordered by first post')\n",
    "\n",
    "peopleFig = fig\n",
    "if not noFigs: peopleFig"
   ]
  },
  {
   "cell_type": "code",
   "execution_count": null,
   "metadata": {},
   "outputs": [],
   "source": []
  },
  {
   "cell_type": "code",
   "execution_count": 16,
   "metadata": {},
   "outputs": [],
   "source": [
    "fig = px.scatter(df, y='UNN', x='id',color='IDcolor', height=1200, size='smThreadPos', hover_name='text', opacity=0.3, template='plotly_dark')\n",
    "fig.update_layout(showlegend=False, \n",
    "                  title_text=\"\"\"Horizontal bands are People. Vertical columns of the same color are threads.\"\"\")\n",
    "fig.update_yaxes(title_text='People ordered by first post')\n",
    "fig.update_xaxes(title_text='Successive Threads over time.')\n",
    "\n",
    "bothFig = fig\n",
    "if not noFigs: bothFig"
   ]
  },
  {
   "cell_type": "code",
   "execution_count": null,
   "metadata": {},
   "outputs": [],
   "source": []
  },
  {
   "cell_type": "code",
   "execution_count": null,
   "metadata": {},
   "outputs": [],
   "source": []
  }
 ],
 "metadata": {
  "jupytext": {
   "formats": "ipynb,auto:light"
  },
  "kernelspec": {
   "display_name": "Python 3",
   "language": "python",
   "name": "python3"
  },
  "language_info": {
   "codemirror_mode": {
    "name": "ipython",
    "version": 3
   },
   "file_extension": ".py",
   "mimetype": "text/x-python",
   "name": "python",
   "nbconvert_exporter": "python",
   "pygments_lexer": "ipython3",
   "version": "3.7.4"
  }
 },
 "nbformat": 4,
 "nbformat_minor": 4
}
